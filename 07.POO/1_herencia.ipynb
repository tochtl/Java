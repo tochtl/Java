{
  "nbformat": 4,
  "nbformat_minor": 0,
  "metadata": {
    "colab": {
      "name": "1-herencia.ipynb",
      "provenance": [],
      "include_colab_link": true
    },
    "kernelspec": {
      "name": "python3",
      "display_name": "Python 3"
    },
    "language_info": {
      "name": "python"
    }
  },
  "cells": [
    {
      "cell_type": "markdown",
      "metadata": {
        "id": "view-in-github",
        "colab_type": "text"
      },
      "source": [
        "<a href=\"https://colab.research.google.com/github/escuelaDeCodigoMargaritaMaza/Java/blob/main/07.POO/1_herencia.ipynb\" target=\"_parent\"><img src=\"https://colab.research.google.com/assets/colab-badge.svg\" alt=\"Open In Colab\"/></a>"
      ]
    },
    {
      "cell_type": "code",
      "source": [
        "class Usuario:\n",
        "    def __init__ (self,nombre,folio,telefono,correo):\n",
        "      self.nombre=nombre\n",
        "      self.folio= folio\n",
        "      self.telefono = telefono\n",
        "      self.correo = correo\n",
        "      \n",
        "usuario1=Usuario('juan','1212','2323232332','juan@correo.com')\n",
        "usuario1.nombre"
      ],
      "metadata": {
        "id": "IPIBUSUvzfsD"
      },
      "execution_count": null,
      "outputs": []
    },
    {
      "cell_type": "code",
      "source": [
        "class Usuario:\n",
        "  def __init__ (self,nombre,folio,telefono,correo):\n",
        "    self.nombre=nombre\n",
        "    self.folio= folio\n",
        "    self.telefono = telefono\n",
        "    self.correo = correo\n",
        "\n",
        "  def mostar_usuario(self):\n",
        "    print(f'''nombre : {self.nombre}\n",
        "          folio: {self.folio}\n",
        "          telefono: {self.telefono}\n",
        "          correo: {self.correo}''')\n",
        "\n",
        "  def modificar_usuario(self):\n",
        "    self.nombre = input(f'ingresa el nuevo nombre a cambiar por {self.nombre}')\n",
        "    self.folio = input(f'ingresa el nuevo folio a cambiar por {self.folio}')\n",
        "    self.telefono = input(f'ingresa el nuevo telefono a cambiar por {self.telefono}')\n",
        "    self.correo = input(f'ingresa el nuevo correo a cambiar por {self.correo}')"
      ],
      "metadata": {
        "id": "Du85pTsDqHzx"
      },
      "execution_count": null,
      "outputs": []
    },
    {
      "cell_type": "code",
      "source": [
        "class Usuario:\n",
        "  def __init__ (self,nombre,folio,telefono,correo):\n",
        "    self.nombre=nombre\n",
        "    self.folio= folio\n",
        "    self.telefono = telefono\n",
        "    self.correo = correo\n",
        "    self.talleres =[]\n",
        "\n",
        "  def mostar_usuario(self):\n",
        "    print(f'''nombre : {self.nombre}\n",
        "          folio: {self.folio}\n",
        "          telefono: {self.telefono}\n",
        "          correo: {self.correo}''')\n",
        "\n",
        "  def modificar_usuario(self):\n",
        "    self.nombre = input(f'ingresa el nuevo nombre a cambiar por {self.nombre}')\n",
        "    self.folio = input(f'ingresa el nuevo folio a cambiar por {self.folio}')\n",
        "    self.telefono = input(f'ingresa el nuevo telefono a cambiar por {self.telefono}')\n",
        "    self.correo = input(f'ingresa el nuevo correo a cambiar por {self.correo}')\n",
        "\n",
        "  def checar_taller(self,taller):\n",
        "    return taller in self.talleres\n",
        "\n",
        "usuario1=Usuario('david','jnjnc','njnc','ccjdcn')\n",
        "usuario1.talleres.append('huertos')\n",
        "usuario1.talleres=['codigo','ajedrez']\n",
        "usuario1.talleres\n",
        "usuario1.checar_taller('huertos')"
      ],
      "metadata": {
        "id": "Z7fz9wLwqLdd"
      },
      "execution_count": null,
      "outputs": []
    },
    {
      "cell_type": "markdown",
      "source": [
        "# HERENCIA"
      ],
      "metadata": {
        "id": "3nN1vPLurdJz"
      }
    },
    {
      "cell_type": "code",
      "source": [
        "class Usuario:\n",
        "  def __init__ (self,nombre,folio,telefono,correo):\n",
        "    self.nombre=nombre\n",
        "    self.folio= folio\n",
        "    self.telefono = telefono\n",
        "    self.correo = correo\n",
        "    self.talleres =[]\n",
        "\n",
        "  def mostar_usuario(self):\n",
        "    print(f'''nombre : {self.nombre}\n",
        "          folio: {self.folio}\n",
        "          telefono: {self.telefono}\n",
        "          correo: {self.correo}''')\n",
        "\n",
        "  def modificar_usuario(self):\n",
        "    self.nombre = input(f'ingresa el nuevo nombre a cambiar por {self.nombre}')\n",
        "    self.folio = input(f'ingresa el nuevo folio a cambiar por {self.folio}')\n",
        "    self.telefono = input(f'ingresa el nuevo telefono a cambiar por {self.telefono}')\n",
        "    self.correo = input(f'ingresa el nuevo correo a cambiar por {self.correo}')\n",
        "\n",
        "  def checar_taller(self,taller):\n",
        "    return taller in self.talleres\n",
        "\n",
        "class Usuario_menor(Usuario):\n",
        "  def __init__(self,tutor):\n",
        "    self.tutor=tutor\n",
        "\n",
        "usuario_menor1=Usuario_menor('pedro')\n",
        "usuario_menor1.nombre #error\n",
        "usuario_menor1.tutor"
      ],
      "metadata": {
        "id": "8DGGZprBrhZ5"
      },
      "execution_count": null,
      "outputs": []
    },
    {
      "cell_type": "code",
      "source": [
        "class Usuario:\n",
        "  def __init__ (self,nombre,folio,telefono,correo):\n",
        "    self.nombre=nombre\n",
        "    self.folio= folio\n",
        "    self.telefono = telefono\n",
        "    self.correo = correo\n",
        "    self.talleres =[]\n",
        "\n",
        "  def mostar_usuario(self):\n",
        "    print(f'''nombre : {self.nombre}\n",
        "          folio: {self.folio}\n",
        "          telefono: {self.telefono}\n",
        "          correo: {self.correo}''')\n",
        "\n",
        "  def modificar_usuario(self):\n",
        "    self.nombre = input(f'ingresa el nuevo nombre a cambiar por {self.nombre}')\n",
        "    self.folio = input(f'ingresa el nuevo folio a cambiar por {self.folio}')\n",
        "    self.telefono = input(f'ingresa el nuevo telefono a cambiar por {self.telefono}')\n",
        "    self.correo = input(f'ingresa el nuevo correo a cambiar por {self.correo}')\n",
        "\n",
        "  def checar_taller(self,taller):\n",
        "    return taller in self.talleres\n",
        "\n",
        "class Usuario_menor(Usuario):\n",
        "  def __init__(self,nombre,folio,telefono,correo,tutor):\n",
        "    self.tutor=tutor\n",
        "    super().__init__(nombre,folio,telefono,correo)\n",
        "\n",
        "usuario_menor1=Usuario_menor('juan','1212','2323232332','juan@correo.com','pedro')\n",
        "usuario_menor1.tutor\n",
        "usuario_menor1.nombre\n",
        "usuario_menor1.talleres=['pintura','robotica']\n",
        "usuario_menor1.checar_taller('huertos')"
      ],
      "metadata": {
        "id": "j2ojbM7Qt5W3"
      },
      "execution_count": null,
      "outputs": []
    },
    {
      "cell_type": "code",
      "source": [
        "class Usuario:\n",
        "  def __init__ (self,nombre,folio,telefono,correo):\n",
        "    self.nombre=nombre\n",
        "    self.folio= folio\n",
        "    self.telefono = telefono\n",
        "    self.correo = correo\n",
        "    self.talleres =[]\n",
        "\n",
        "  def mostar_usuario(self):\n",
        "    print(f'''nombre : {self.nombre}\n",
        "          folio: {self.folio}\n",
        "          telefono: {self.telefono}\n",
        "          correo: {self.correo}''')\n",
        "\n",
        "  def modificar_usuario(self):\n",
        "    self.nombre = input(f'ingresa el nuevo nombre a cambiar por {self.nombre}')\n",
        "    self.folio = input(f'ingresa el nuevo folio a cambiar por {self.folio}')\n",
        "    self.telefono = input(f'ingresa el nuevo telefono a cambiar por {self.telefono}')\n",
        "    self.correo = input(f'ingresa el nuevo correo a cambiar por {self.correo}')\n",
        "\n",
        "  def checar_taller(self,taller):\n",
        "    return taller in self.talleres\n",
        "\n",
        "class Usuario_externo(Usuario):\n",
        "    def esExterno(self,ubicacion):\n",
        "      if ubicacion == 'Estado de México':\n",
        "        print('No es externo')\n",
        "      else:\n",
        "        print('si es externo')\n",
        "\n",
        "usuario_externo1=Usuario_externo('juan','1212','2323232332','juan@correo.com')\n",
        "usuario_externo1.esExterno('Puebla')"
      ],
      "metadata": {
        "id": "iQt7z-aQwOwC"
      },
      "execution_count": null,
      "outputs": []
    },
    {
      "cell_type": "markdown",
      "source": [
        "# OTRO EJEMPLO"
      ],
      "metadata": {
        "id": "E1XrHMAArcxI"
      }
    },
    {
      "cell_type": "code",
      "source": [
        "class Empleado:\n",
        "    def __init__(self, nombre, puesto, sueldo):\n",
        "        self.nombre=nombre\n",
        "        self.puesto=puesto\n",
        "        self.sueldoBruto=sueldo\n",
        "\n",
        "    def calcularSueldo(self, descuentos):\n",
        "        return self.sueldoBruto-descuentos\n",
        "\n",
        "class Gerente(Empleado): #esta clase es hija de la superclase Empleado, pero su metodo calcularSueldo pide parámetros distintos a la super\n",
        "    def calcularSueldo(self, descuentos, bonificaciones):\n",
        "        return self.sueldoBruto-descuentos+bonificaciones\n",
        "\n",
        "marcos=Empleado(\"Marcos Ríos\", 'chofer', 6000) #este es el objeto marcos\n",
        "julia=Gerente(\"Julia Campos\", 'gerente', 20000) #este es el objeto de la clase gerente con los mismos atributos\n",
        "\n",
        "print(marcos.calcularSueldo(3000)) #solo requiere de un atributo\n",
        "\n",
        "print(julia.calcularSueldo(1000, 2000))"
      ],
      "metadata": {
        "id": "wj9QdVF80LwQ"
      },
      "execution_count": null,
      "outputs": []
    },
    {
      "cell_type": "code",
      "source": [
        "class Perro:\n",
        "\n",
        "    #atributo de clase, cuando instanciemos objetos los atributos serán diferentes para cada objeto pero este sera constante\n",
        "    especie=\"mamífero\"\n",
        "  #ATRIBUTOS: nombre(cadena), edad(int)  y alimentos favoritos(lista)\n",
        "  #METODOS. __init__(), esAdulto() y esAlimentoFavorito()\n",
        "\n",
        "    def __init__(self, nombre,edad):\n",
        "        self.nombre=nombre\n",
        "        self.edad=edad\n",
        "        self.alimentos=[] \n",
        " \n",
        " #Instanciamos objetos de tipo perro\n",
        "#perro1=Perro() #nos dará error diciendo falta argumentos\n",
        "\n",
        "perro1=Perro('huesos',3) #si notas no será necesario agregar alimentos ya que es una cadena que esta declarada vacia\n",
        "#perro1.edad\n",
        "#perro1.nombre\n",
        "\n",
        "#Python nos permite agregar atributos de forma dinámica, por ejemplo para este y solo este objeto perro1 puede crearle otro atributo como la raza, pero para otros objetos ese atributo no existe\n",
        "#perro1.raza='chihuahua'\n",
        "#perro1.raza\n",
        "\n",
        "#vamos a agregar contenido al atributo alimentos\n",
        "# perro1.alimentos.append('croquetas')\n",
        "# perro1.alimentos.append('pollo')\n",
        "# perro1.alimentos.append('carne')\n",
        "# perro1.alimentos\n",
        "\n",
        "#Si quisieramos reemplazar la lista o agregarla en una sola linea\n",
        "# perro1.alimentos=['huesos','sobras','premios']\n",
        "# perro1.alimentos\n",
        "\n"
      ],
      "metadata": {
        "id": "0jAIPrLL0iwo"
      },
      "execution_count": null,
      "outputs": []
    },
    {
      "cell_type": "code",
      "source": [
        "#Vamos ahora a agregar en la clae los metodos\n",
        "class Perro:\n",
        "\n",
        "    #atributo de clase\n",
        "    especie=\"mamífero\"\n",
        " \n",
        "    def __init__(self, nombre, edad):\n",
        "        self.nombre=nombre\n",
        "        self.edad=edad\n",
        "        self.alimentos=[]\n",
        " \n",
        "    def esAdulto(self): #en base a la edad va a decirnos si es adulto, no requiere parametros\n",
        "        if self.edad>5:\n",
        "            print(self.nombre, \"es adulto\")\n",
        "        else:\n",
        "            print(self.nombre, \"es cachorro\")\n",
        "\n",
        "    def esAlimentoFavorito(self,alimento): #requeire de parámetros, nos devolvera verdadero o falso si el alimento esta dentro de la lista de alimentos favoritos\n",
        "        return alimento in self.alimentos\n",
        "\n",
        "#Instanciamos de nuevo\n",
        "#perro1=Perro('huesos',3)\n",
        "#perro1.esAdulto()\n",
        "\n",
        "#si cambio la edad\n",
        "# perro1.edad=7\n",
        "# perro1.esAdulto()\n",
        "\n",
        "#vamos a crear un nuevo objeto\n",
        "#perro2=Perro('toby',8)\n",
        "#voy a crearles sus listas de alimentos\n",
        "# perro1.alimentos=['leche','croquetas','carne']\n",
        "# perro2.alimentos=['premios','carne','pollo']\n",
        "#le pregunto si para perro1 leche es un alimento favorito\n",
        "# perro1.esAlimentoFavorito('leche')\n",
        "#pero si le pregunto si para perro2 es un alimento faorito\n",
        "# perro2.esAlimentoFavorito('leche')\n",
        "\n",
        "#vamos a comprobar su especie con el atributo de especie\n",
        "# perro2.especie\n",
        "#esta aplica para ambos\n",
        "# perro1.especie\n",
        "\n",
        "#Algo importante de las estas clases de especies es que funcionan sin tener instanciado los objetos, se le llama atributo estatico\n",
        "# Perro.especie"
      ],
      "metadata": {
        "id": "y7h2hGxE7HKu"
      },
      "execution_count": null,
      "outputs": []
    }
  ]
}